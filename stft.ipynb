{
  "cells": [
    {
      "cell_type": "markdown",
      "metadata": {
        "id": "view-in-github",
        "colab_type": "text"
      },
      "source": [
        "<a href=\"https://colab.research.google.com/github/mofjp/stft/blob/main/stft.ipynb\" target=\"_parent\"><img src=\"https://colab.research.google.com/assets/colab-badge.svg\" alt=\"Open In Colab\"/></a>"
      ]
    },
    {
      "cell_type": "code",
      "source": [
        "import numpy as np\n",
        "import librosa\n",
        "import librosa.display\n",
        "import soundfile as sf\n",
        "import matplotlib.pyplot as plt\n",
        "\n",
        "# 音声ファイルの読み込み\n",
        "audio_path = '/content/sample_data/test.wav'\n",
        "y, sr = librosa.load(audio_path, sr=None)\n",
        "\n",
        "# STFTの計算\n",
        "D = librosa.stft(y)\n",
        "\n",
        "# 周波数成分の表示\n",
        "plt.figure(figsize=(10, 6))\n",
        "librosa.display.specshow(librosa.amplitude_to_db(np.abs(D), ref=np.max), sr=sr, y_axis='log', x_axis='time')\n",
        "plt.colorbar(format='%+2.0f dB')\n",
        "plt.title('Spectrogram')\n",
        "plt.show()\n",
        "\n",
        "# 周波数帯域フィルタリング\n",
        "def bandpass_filter(D, sr, low_freq, high_freq):\n",
        "    # フィルタの設計\n",
        "    freqs = librosa.fft_frequencies(sr=sr)\n",
        "    mask = (freqs > low_freq) & (freqs < high_freq)\n",
        "\n",
        "    # フィルタの適用\n",
        "    D_filtered = D.copy()\n",
        "    D_filtered[~mask, :] = 0\n",
        "    return D_filtered\n",
        "\n",
        "# 例として、3000 Hz 以上の成分を強調\n",
        "low_freq = 3000\n",
        "high_freq = np.max(librosa.fft_frequencies(sr=sr))\n",
        "D_filtered = bandpass_filter(D, sr, low_freq, high_freq)\n",
        "\n",
        "# フィルタリング結果の表示\n",
        "plt.figure(figsize=(10, 6))\n",
        "librosa.display.specshow(librosa.amplitude_to_db(np.abs(D_filtered), ref=np.max), sr=sr, y_axis='log', x_axis='time')\n",
        "plt.colorbar(format='%+2.0f dB')\n",
        "plt.title('Filtered Spectrogram')\n",
        "plt.show()\n",
        "\n",
        "# 逆STFTの計算\n",
        "y_filtered = librosa.istft(D_filtered)\n",
        "\n",
        "# フィルタリング結果の保存\n",
        "sf.write('filtered_audio.wav', y_filtered, sr)\n"
      ],
      "metadata": {
        "id": "6iiYC2KreyPU"
      },
      "execution_count": null,
      "outputs": []
    },
    {
      "cell_type": "code",
      "source": [
        "import numpy as np\n",
        "import librosa\n",
        "import soundfile as sf\n",
        "\n",
        "# 音声ファイルの読み込み\n",
        "audio_path = '/content/sample_data/filtered_audio.wav'\n",
        "y, sr = librosa.load(audio_path, sr=None)\n",
        "\n",
        "# 波形データの逆位相\n",
        "y_inverted = -y\n",
        "\n",
        "# 逆位相にした波形を保存\n",
        "sf.write('inverted_audio.wav', y_inverted, sr)\n"
      ],
      "metadata": {
        "id": "gbZ8nwiee7Zy"
      },
      "execution_count": null,
      "outputs": []
    }
  ],
  "metadata": {
    "colab": {
      "provenance": [],
      "include_colab_link": true
    },
    "kernelspec": {
      "display_name": "Python 3",
      "name": "python3"
    }
  },
  "nbformat": 4,
  "nbformat_minor": 0
}